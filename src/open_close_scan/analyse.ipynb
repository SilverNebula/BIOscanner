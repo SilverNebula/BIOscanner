{
 "cells": [
  {
   "cell_type": "markdown",
   "metadata": {},
   "source": [
    "## Set environment"
   ]
  },
  {
   "cell_type": "code",
   "execution_count": 1,
   "metadata": {},
   "outputs": [],
   "source": [
    "import numpy as np\n",
    "import pandas as pd\n",
    "import io\n",
    "import esm\n",
    "import argparse\n",
    "from xgboost import XGBRegressor\n",
    "import matplotlib.pyplot as plt\n",
    "from sklearn.metrics import mean_squared_error\n",
    "import open_close_scan\n",
    "char_map = {'A': 'T',\n",
    "            'G': 'C',\n",
    "            'C': 'G',\n",
    "            'T': 'A',}\n",
    "value_map = {'A': 0,'C':1,'G':2,'T':3}\n",
    "window_size = 20"
   ]
  },
  {
   "cell_type": "markdown",
   "metadata": {},
   "source": [
    "## Load data"
   ]
  },
  {
   "cell_type": "code",
   "execution_count": 2,
   "metadata": {},
   "outputs": [
    {
     "name": "stdout",
     "output_type": "stream",
     "text": [
      "read 1995 lines from sscount file\n"
     ]
    }
   ],
   "source": [
    "sseq_LMNA = None\n",
    "sscount_file = 'D:/CODE/BIO/dataset/ASO/LMNA_sscount1.txt' # ss-count result from mFold\n",
    "\n",
    "with open(sscount_file, 'r') as fp:\n",
    "    cnt = fp.readline()\n",
    "    data = fp.readlines()\n",
    "    print('read {} lines from sscount file'.format(len(data)))\n",
    "    value = []\n",
    "    sequence = []\n",
    "    for line in data:\n",
    "        sp = line.split()\n",
    "        value.append(int(sp[1])/int(cnt))\n",
    "        if sp[2] == 'U':\n",
    "            sp[2] = 'T'\n",
    "        sequence.append(sp[2])\n",
    "    sseq_LMNA = open_close_scan.Seq(sequence, value)\n",
    "sseq_LMNA.open_threshold = 0.3"
   ]
  },
  {
   "cell_type": "code",
   "execution_count": 3,
   "metadata": {},
   "outputs": [
    {
     "data": {
      "text/html": [
       "<div>\n",
       "<style scoped>\n",
       "    .dataframe tbody tr th:only-of-type {\n",
       "        vertical-align: middle;\n",
       "    }\n",
       "\n",
       "    .dataframe tbody tr th {\n",
       "        vertical-align: top;\n",
       "    }\n",
       "\n",
       "    .dataframe thead th {\n",
       "        text-align: right;\n",
       "    }\n",
       "</style>\n",
       "<table border=\"1\" class=\"dataframe\">\n",
       "  <thead>\n",
       "    <tr style=\"text-align: right;\">\n",
       "      <th></th>\n",
       "      <th>seq</th>\n",
       "      <th>inhibition</th>\n",
       "      <th>nm</th>\n",
       "    </tr>\n",
       "  </thead>\n",
       "  <tbody>\n",
       "    <tr>\n",
       "      <th>0</th>\n",
       "      <td>GGGCTCTGGGCTCCTGAGCC</td>\n",
       "      <td>3</td>\n",
       "      <td>75</td>\n",
       "    </tr>\n",
       "    <tr>\n",
       "      <th>1</th>\n",
       "      <td>CCGAGCTGCTGCAGTGGGAG</td>\n",
       "      <td>42</td>\n",
       "      <td>75</td>\n",
       "    </tr>\n",
       "    <tr>\n",
       "      <th>2</th>\n",
       "      <td>GCAGGTCCCGCACAGCACGG</td>\n",
       "      <td>61</td>\n",
       "      <td>75</td>\n",
       "    </tr>\n",
       "    <tr>\n",
       "      <th>3</th>\n",
       "      <td>TGGCAGATGCCTTGTCGGCA</td>\n",
       "      <td>21</td>\n",
       "      <td>75</td>\n",
       "    </tr>\n",
       "    <tr>\n",
       "      <th>4</th>\n",
       "      <td>GAGCCGCTGGCAGATGCCTT</td>\n",
       "      <td>24</td>\n",
       "      <td>75</td>\n",
       "    </tr>\n",
       "  </tbody>\n",
       "</table>\n",
       "</div>"
      ],
      "text/plain": [
       "                    seq  inhibition  nm\n",
       "0  GGGCTCTGGGCTCCTGAGCC           3  75\n",
       "1  CCGAGCTGCTGCAGTGGGAG          42  75\n",
       "2  GCAGGTCCCGCACAGCACGG          61  75\n",
       "3  TGGCAGATGCCTTGTCGGCA          21  75\n",
       "4  GAGCCGCTGGCAGATGCCTT          24  75"
      ]
     },
     "execution_count": 3,
     "metadata": {},
     "output_type": "execute_result"
    }
   ],
   "source": [
    "input_file = 'D:/CODE/BIO/dataset/ASO/LMNA.csv'\n",
    "df = pd.read_csv(input_file)\n",
    "df.columns = ['seq','inhibition','nm']\n",
    "# df = df[['seq','inhibition']]\n",
    "df.head()"
   ]
  },
  {
   "cell_type": "markdown",
   "metadata": {},
   "source": [
    "## Feature definition\n",
    "LMNA_pos : Start position of the ASO on mRNA LMNA. If ASO can not match with LMNA, the value is -1.\n",
    "\n",
    "LMNA_open_ratio : Open ratio of the area that ASO matched with LMNA. -1 if unmatched.\n",
    "\n",
    "LMNA_open_len : Max length of contiguous 'open' bp of the area. -1 if unmatched.\n",
    "\n",
    "cg_ratio : percentage of CG\n",
    "\n",
    "posi : number of 'positive' special subsequence\n",
    "\n",
    "nega : number of 'negative' special subsequence\n"
   ]
  },
  {
   "cell_type": "code",
   "execution_count": 4,
   "metadata": {},
   "outputs": [],
   "source": [
    "class FeatureCalc:\n",
    "    @staticmethod\n",
    "    def match_pos(df,seq:open_close_scan.Seq):\n",
    "        rev_str = open_close_scan.get_ASO(df['seq'])\n",
    "        # print(seq.str)\n",
    "        # print(rev_str)\n",
    "        start = seq.str.find(rev_str)\n",
    "        return start\n",
    "    \n",
    "    @staticmethod\n",
    "    def match_open_ratio(df,col,seq:open_close_scan.Seq):\n",
    "        if df[col]>=0:\n",
    "            st = df[col]\n",
    "            ed = st + len(df['seq'])\n",
    "            open_ratio = np.sum(seq.value[st:ed] >= seq.open_threshold) / (ed-st)\n",
    "            return open_ratio\n",
    "        else:\n",
    "            return -1\n",
    "    @staticmethod\n",
    "    def match_open_len(df,col,seq:open_close_scan.Seq):\n",
    "        if df[col]>=0:\n",
    "            st = df[col]\n",
    "            ed = st + len(df['seq'])\n",
    "            open_len = seq.calc_contiguous_opening_len(st,ed)\n",
    "            return open_len\n",
    "        else:\n",
    "            return -1\n",
    "    pass"
   ]
  },
  {
   "cell_type": "code",
   "execution_count": 5,
   "metadata": {},
   "outputs": [],
   "source": [
    "def check_cg_ratio(df):\n",
    "    cnt = 0\n",
    "    for ch in df['seq']:\n",
    "        if (ch =='C') or (ch=='G'):\n",
    "            cnt += 1\n",
    "    return cnt / len(df['seq'])\n",
    "\n",
    "def check_tm(df):\n",
    "    cnt = 0\n",
    "    for ch in df['seq']:\n",
    "        if (ch =='C') or (ch=='G'):\n",
    "            cnt += 1\n",
    "    Tm = 4 * cnt + 2 * (len(df['seq']) - cnt)\n",
    "    return Tm\n",
    "\n",
    "def check_subword(df,_esm):\n",
    "    cnt = len(_esm.query(df['seq']))\n",
    "    return cnt\n",
    "\n",
    "def get_value(df,k):\n",
    "    return value_map[df['seq'][k]]\n",
    "\n",
    "def get_base_count(df,target):\n",
    "    cnt = 0\n",
    "    for ch in df['seq']:\n",
    "        cnt += (ch == target)\n",
    "    return cnt\n",
    "\n",
    "def pre_process(df):\n",
    "    # for i in range(window_size):\n",
    "    #     df.loc[:,'loc'+str(i)] = df.apply(get_value,k=i,axis=1)\n",
    "    for key in value_map.keys():\n",
    "        df.loc[:,'num_'+str(key)] = df.apply(get_base_count,target=key,axis=1)\n",
    "    df.loc[:,'cg_ratio'] = df.apply(check_cg_ratio,axis=1)\n",
    "    df.loc[:,'tm'] = df.apply(check_tm,axis=1)\n",
    "    #\n",
    "    df.loc[:,'LMNA_pos'] = df.apply(FeatureCalc.match_pos,seq=sseq_LMNA,axis=1)\n",
    "    df.loc[:,'LMNA_open_ratio'] = df.apply(FeatureCalc.match_open_ratio,seq=sseq_LMNA,col='LMNA_pos',axis=1)\n",
    "    df.loc[:,'LMNA_open_len'] = df.apply(FeatureCalc.match_open_len,seq=sseq_LMNA,col='LMNA_pos',axis=1)\n",
    "    #initialize esm\n",
    "    POSITIVE_SEQ = ['CCAC', 'TCCC', 'ACTC', 'GCCA', 'CTCT']\n",
    "    NEGATIVE_SEQ = ['GGGG', 'ACTG', 'TAA', 'CCGG', 'AAA']\n",
    "    positive_index = esm.Index()\n",
    "    for word in POSITIVE_SEQ:\n",
    "        positive_index.enter(word)\n",
    "    positive_index.fix()\n",
    "    negative_index = esm.Index()\n",
    "    for word in NEGATIVE_SEQ:\n",
    "        negative_index.enter(word)\n",
    "    negative_index.fix()\n",
    "    df.loc[:,'posi'] = df.apply(check_subword,_esm=positive_index,axis=1)\n",
    "    df.loc[:,'nega'] = df.apply(check_subword,_esm=negative_index,axis=1)\n",
    "    #\n",
    "    return df\n"
   ]
  },
  {
   "cell_type": "markdown",
   "metadata": {},
   "source": [
    "## Data prepare"
   ]
  },
  {
   "cell_type": "code",
   "execution_count": 6,
   "metadata": {},
   "outputs": [],
   "source": [
    "def k_fold(k,id,data,index=None):\n",
    "    size = df.shape[0]\n",
    "    block = size//k\n",
    "    if index is None:\n",
    "        index = list(range(0,size))\n",
    "    train_idx = index[0:id*block] + index[(id+1)*block:]\n",
    "    test_idx = index[id*block:(id+1)*block]\n",
    "    train = data.loc[train_idx]\n",
    "    test = data.loc[test_idx]\n",
    "    return train,test"
   ]
  },
  {
   "cell_type": "code",
   "execution_count": 7,
   "metadata": {},
   "outputs": [
    {
     "name": "stdout",
     "output_type": "stream",
     "text": [
      "                    seq  inhibition  nm  num_A  num_C  num_G  num_T  cg_ratio  \\\n",
      "0  GGGCTCTGGGCTCCTGAGCC           3  75      1      7      8      4      0.75   \n",
      "1  CCGAGCTGCTGCAGTGGGAG          42  75      3      5      9      3      0.70   \n",
      "2  GCAGGTCCCGCACAGCACGG          61  75      4      8      7      1      0.75   \n",
      "3  TGGCAGATGCCTTGTCGGCA          21  75      3      5      7      5      0.60   \n",
      "4  GAGCCGCTGGCAGATGCCTT          24  75      3      6      7      4      0.65   \n",
      "\n",
      "   tm  LMNA_pos  LMNA_open_ratio  LMNA_open_len  posi  nega  \n",
      "0  70        -1            -1.00             -1     1     0  \n",
      "1  68      1700             0.40              3     0     0  \n",
      "2  70      1753             0.20              2     1     0  \n",
      "3  64      1781             0.35              5     0     0  \n",
      "4  66      1788             0.20              2     0     0  \n"
     ]
    }
   ],
   "source": [
    "df = pre_process(df)\n",
    "x_column = []\n",
    "for i in range(6,16):\n",
    "    x_column.append('loc'+str(i))\n",
    "print(df.head())\n",
    "df.to_csv('debug.csv')"
   ]
  },
  {
   "cell_type": "markdown",
   "metadata": {},
   "source": [
    "## feature checking"
   ]
  },
  {
   "cell_type": "markdown",
   "metadata": {},
   "source": [
    "Box plot of inhibiton grouped by 'nm'.\n",
    "\n",
    "We can see that '100nm' group have higher average inhibiton"
   ]
  },
  {
   "cell_type": "code",
   "execution_count": 8,
   "metadata": {},
   "outputs": [
    {
     "data": {
      "image/png": "[encoded data removed]",
      "text/plain": [
       "<Figure size 576x432 with 1 Axes>"
      ]
     },
     "metadata": {
      "needs_background": "light"
     },
     "output_type": "display_data"
    }
   ],
   "source": [
    "df_tmp = pd.DataFrame(df[['nm','inhibition']])\n",
    "df_tmp.boxplot('inhibition',by='nm',figsize=(8,6))\n",
    "plt.show()"
   ]
  },
  {
   "cell_type": "code",
   "execution_count": 9,
   "metadata": {},
   "outputs": [
    {
     "data": {
      "image/png": "[encoded data removed]",
      "text/plain": [
       "<Figure size 864x576 with 4 Axes>"
      ]
     },
     "metadata": {
      "needs_background": "light"
     },
     "output_type": "display_data"
    }
   ],
   "source": [
    "fig,axes = plt.subplots(2,2,figsize=(12,8))\n",
    "df.plot.scatter(x='num_A',y='inhibition',ax=axes[0,0])\n",
    "df.plot.scatter(x='num_G',y='inhibition',ax=axes[0,1])\n",
    "df.plot.scatter(x='num_C',y='inhibition',ax=axes[1,0])\n",
    "df.plot.scatter(x='num_T',y='inhibition',ax=axes[1,1])\n",
    "plt.show()"
   ]
  },
  {
   "cell_type": "markdown",
   "metadata": {},
   "source": [
    "### CG_Ratio\n",
    "关于\"CG碱基对所占比例\",\"Tm temperature\"和inhibition关系的散点图"
   ]
  },
  {
   "cell_type": "code",
   "execution_count": 10,
   "metadata": {},
   "outputs": [
    {
     "data": {
      "image/png": "[encoded data removed]",
      "text/plain": [
       "<Figure size 864x288 with 2 Axes>"
      ]
     },
     "metadata": {
      "needs_background": "light"
     },
     "output_type": "display_data"
    }
   ],
   "source": [
    "fig,axes = plt.subplots(1,2,figsize=(12,4))\n",
    "df_tmp = pd.DataFrame(df)\n",
    "df_tmp.plot.scatter(x='cg_ratio',y='inhibition',ax=axes[0])\n",
    "df_tmp.plot.scatter(x='tm',y='inhibition',ax=axes[1])\n",
    "plt.show()"
   ]
  },
  {
   "cell_type": "code",
   "execution_count": 11,
   "metadata": {},
   "outputs": [],
   "source": [
    "df_tmp = pd.DataFrame(df)\n",
    "\n",
    "plt.show()"
   ]
  },
  {
   "cell_type": "markdown",
   "metadata": {},
   "source": [
    "### Special subsequence"
   ]
  },
  {
   "cell_type": "code",
   "execution_count": 13,
   "metadata": {},
   "outputs": [
    {
     "data": {
      "image/png": "[encoded data removed]",
      "text/plain": [
       "<Figure size 1296x432 with 2 Axes>"
      ]
     },
     "metadata": {
      "needs_background": "light"
     },
     "output_type": "display_data"
    }
   ],
   "source": [
    "fig,axes = plt.subplots(1,2,figsize=(18,6))\n",
    "df_tmp = pd.DataFrame(df)\n",
    "df_tmp.plot.scatter(x='posi',y='inhibition',ax=axes[0])\n",
    "df_tmp.plot.scatter(x='nega',y='inhibition',ax=axes[1])\n",
    "plt.show()"
   ]
  },
  {
   "cell_type": "markdown",
   "metadata": {},
   "source": [
    "### Feature on LMNA\n",
    "position, open ratio, open len"
   ]
  },
  {
   "cell_type": "code",
   "execution_count": 14,
   "metadata": {},
   "outputs": [
    {
     "data": {
      "image/png": "[encoded data removed]",
      "text/plain": [
       "<Figure size 864x288 with 3 Axes>"
      ]
     },
     "metadata": {
      "needs_background": "light"
     },
     "output_type": "display_data"
    }
   ],
   "source": [
    "fig,axes = plt.subplots(1,3,figsize=(12,4))\n",
    "df_tmp = pd.DataFrame(df[df['LMNA_pos']>-1])\n",
    "df_tmp.plot.scatter(x='LMNA_pos',y='inhibition',ax=axes[0])\n",
    "df_tmp.plot.scatter(x='LMNA_open_ratio',y='inhibition',ax=axes[1])\n",
    "df_tmp.plot.scatter(x='LMNA_open_len',y='inhibition',ax=axes[2])\n",
    "plt.show()"
   ]
  },
  {
   "cell_type": "markdown",
   "metadata": {},
   "source": [
    "### try filt"
   ]
  },
  {
   "cell_type": "code",
   "execution_count": 24,
   "metadata": {},
   "outputs": [
    {
     "data": {
      "image/png": "[encoded data removed]",
      "text/plain": [
       "<Figure size 432x288 with 1 Axes>"
      ]
     },
     "metadata": {
      "needs_background": "light"
     },
     "output_type": "display_data"
    }
   ],
   "source": [
    "df_tmp = pd.DataFrame(df[df['LMNA_pos']>-1])\n",
    "df_tmp = df_tmp[df_tmp['LMNA_open_ratio']>0.3]\n",
    "df_tmp = df_tmp[df_tmp['LMNA_open_len']>=4]\n",
    "df_tmp.plot.scatter(x='cg_ratio',y='inhibition')\n",
    "plt.show()\n"
   ]
  },
  {
   "cell_type": "markdown",
   "metadata": {},
   "source": [
    "### Pearson Correlation\n",
    "following are Pearson correlation of each attribute with 'inhibiton'"
   ]
  },
  {
   "cell_type": "code",
   "execution_count": 16,
   "metadata": {},
   "outputs": [
    {
     "name": "stdout",
     "output_type": "stream",
     "text": [
      "inhibition         1.000000\n",
      "nm                 0.468027\n",
      "num_A              0.009650\n",
      "num_C              0.250826\n",
      "num_G             -0.234835\n",
      "num_T              0.016441\n",
      "cg_ratio          -0.024142\n",
      "tm                -0.024142\n",
      "LMNA_pos          -0.020738\n",
      "LMNA_open_ratio    0.285091\n",
      "LMNA_open_len      0.311361\n",
      "posi              -0.096376\n",
      "nega              -0.304351\n",
      "dtype: float64\n"
     ]
    }
   ],
   "source": [
    "print(df.corrwith(df['inhibition']))"
   ]
  },
  {
   "cell_type": "markdown",
   "metadata": {},
   "source": [
    "## Train\n",
    "Try training with XGBoost\n",
    "(the result is not so good)"
   ]
  },
  {
   "cell_type": "code",
   "execution_count": 18,
   "metadata": {},
   "outputs": [
    {
     "name": "stdout",
     "output_type": "stream",
     "text": [
      "                     seq       pred  label\n",
      "0   GGGCTCTGGGCTCCTGAGCC  16.381464      3\n",
      "1   CCGAGCTGCTGCAGTGGGAG  30.202427     42\n",
      "2   GCAGGTCCCGCACAGCACGG  40.865452     61\n",
      "3   TGGCAGATGCCTTGTCGGCA  51.923046     21\n",
      "4   GAGCCGCTGGCAGATGCCTT  53.437675     24\n",
      "5   CTGAGCCGCTGGCAGATGCC  48.886684     60\n",
      "6   AGGAGATGGGTCCGCCCACC  43.432896     44\n",
      "7   CAGAGGAGATGGGTCCGCCC  32.738895     38\n",
      "8   GCCAGAGGAGATGGGTCCGC  34.216461     54\n",
      "9   GAGCCAGAGGAGATGGGTCC  34.463581     43\n",
      "10  TGGAGGCAGAAGAGCCAGAG  34.906479     50\n",
      "11  ACACTGGAGGCAGAAGAGCC  35.155060     43\n",
      "12  TGACACTGGAGGCAGAAGAG  28.271111     44\n",
      "13  CCGTGACACTGGAGGCAGAA  37.627213     47\n",
      "14  AGTGACCGTGACACTGGAGG  26.449455     69\n",
      "15  CTGCGAGTGACCGTGACACT  37.590187     67\n",
      "16  GGTAGCTGCGAGTGACCGTG  24.149622     71\n",
      "17  TCTGGGTTCGGGGGCTGGAG  15.394214     54\n",
      "18  GGCTCTGGGTTCGGGGGCTG  39.059467      3\n",
      "19  GGGCTCTGGGTTCGGGGGCT  35.456768     13\n",
      "20  TCTGGGGGCTCTGGGTTCGG  26.065540     15\n",
      "21  AGTTCTGGGGGCTCTGGGTT  47.717400      0\n",
      "22  CTGCAGTTCTGGGGGCTCTG  40.849163     38\n",
      "Mean Squared Error:624.3384463600195\n"
     ]
    }
   ],
   "source": [
    "# import random\n",
    "# random_index = random.shuffle(range(0,100))\n",
    "feature_cols = ['num_A','num_C','num_G','num_T','LMNA_open_ratio','LMNA_open_len','posi','nega','cg_ratio','nm']\n",
    "xgb = XGBRegressor(learning_rate=0.1)\n",
    "for k in range(5): # k-fold\n",
    "    df_train,df_test = k_fold(5,k,df)\n",
    "    xgb.fit(df_train[feature_cols],df_train['inhibition'])\n",
    "    pred = xgb.predict(df_test[feature_cols])\n",
    "    ms_error = mean_squared_error(pred,df_test['inhibition'])\n",
    "    res = pd.DataFrame({'seq':df_test['seq'],'pred':pred,'label':df_test['inhibition']},columns=['seq','pred','label'])\n",
    "    break\n",
    "print(res)\n",
    "print('Mean Squared Error:{}'.format(ms_error))"
   ]
  },
  {
   "cell_type": "code",
   "execution_count": null,
   "metadata": {},
   "outputs": [],
   "source": []
  }
 ],
 "metadata": {
  "interpreter": {
   "hash": "2d7cf45426847259347442cc1820f0243a96d885b556f386d8b7630dcf225ed7"
  },
  "kernelspec": {
   "display_name": "Python 3.7.10 64-bit ('ai': conda)",
   "language": "python",
   "name": "python3"
  },
  "language_info": {
   "codemirror_mode": {
    "name": "ipython",
    "version": 3
   },
   "file_extension": ".py",
   "mimetype": "text/x-python",
   "name": "python",
   "nbconvert_exporter": "python",
   "pygments_lexer": "ipython3",
   "version": "3.7.10"
  },
  "orig_nbformat": 4
 },
 "nbformat": 4,
 "nbformat_minor": 2
}

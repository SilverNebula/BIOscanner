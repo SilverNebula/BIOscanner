{
 "cells": [
  {
   "cell_type": "code",
   "execution_count": 1,
   "metadata": {},
   "outputs": [],
   "source": [
    "import os\n",
    "import pandas as pd\n",
    "import numpy as np\n",
    "import tqdm"
   ]
  },
  {
   "cell_type": "code",
   "execution_count": 2,
   "metadata": {},
   "outputs": [],
   "source": [
    "class Exon:\n",
    "    def __init__(self, gene, chrom, strand):\n",
    "        self.gene = gene\n",
    "        self.chrom = chrom\n",
    "        self.strand = strand\n",
    "        self.start = set()\n",
    "        self.end = set()\n",
    "        self.txL = 214748364700\n",
    "        self.txR = -1\n",
    "        pass\n",
    "\n",
    "    def add_left(self, left):\n",
    "        self.end.add(left)\n",
    "\n",
    "    def add_right(self, right):\n",
    "        self.start.add(right)\n",
    "    \n",
    "    def check_bound(self,L,R):\n",
    "        self.txL =min(self.txL,L)\n",
    "        self.txR = max(self.txR,R)\n",
    "    \n",
    "    def check_paralog(self,flag):\n",
    "        self.paralog = flag\n",
    "\n",
    "    def add_area(self, left, right):\n",
    "        self.add_left(left)\n",
    "        self.add_right(right)\n",
    "\n",
    "    def format(self, s):\n",
    "        return ','.join(str(i) for i in list(s))"
   ]
  },
  {
   "cell_type": "code",
   "execution_count": 3,
   "metadata": {},
   "outputs": [],
   "source": [
    "junction_file = r'D:\\CODE\\BIO\\dataset\\gtex\\GTEx_Analysis_2017-06-05_v8_STARv2.5.3a_junctions.gct'\n",
    "sample_list = r'D:\\CODE\\BIO\\dataset\\gtex\\GTEx_Analysis_v8_Annotations_SampleAttributesDS.txt'\n",
    "gene_db = r'D:\\CODE\\BIO\\dataset\\gtex\\v8\\mart_export.txt'\n",
    "para_db = r'D:\\CODE\\BIO\\dataset\\gtex\\v8\\mart_export_paralog.txt'\n",
    "output_path = r'D:\\CODE\\BIO\\dataset\\gtex\\v8\\processed'"
   ]
  },
  {
   "cell_type": "markdown",
   "metadata": {},
   "source": [
    "## build sample list"
   ]
  },
  {
   "cell_type": "code",
   "execution_count": 3,
   "metadata": {},
   "outputs": [],
   "source": [
    "sample_df = pd.read_csv(sample_list,delimiter='\\t')\n",
    "sample_df = sample_df[['SAMPID','SMTS','SMTSD']]\n",
    "sample_df.head(20)\n",
    "target_file = os.path.join(output_path,'sample.csv')\n",
    "sample_df.to_csv(target_file,index=None)"
   ]
  },
  {
   "cell_type": "markdown",
   "metadata": {},
   "source": [
    "## get tissue label"
   ]
  },
  {
   "cell_type": "code",
   "execution_count": 8,
   "metadata": {},
   "outputs": [],
   "source": [
    "def name_decorate(name):\n",
    "    res = str(name).replace(' ','')\n",
    "    res = res.replace('-','_')\n",
    "    return res"
   ]
  },
  {
   "cell_type": "code",
   "execution_count": 9,
   "metadata": {},
   "outputs": [
    {
     "name": "stdout",
     "output_type": "stream",
     "text": [
      "0:'Adipose_Subcutaneous',\n",
      "1:'Adipose_Visceral(Omentum)',\n",
      "2:'AdrenalGland',\n",
      "3:'Artery_Aorta',\n",
      "4:'Artery_Coronary',\n",
      "5:'Artery_Tibial',\n",
      "6:'Bladder',\n",
      "7:'Brain_Amygdala',\n",
      "8:'Brain_Anteriorcingulatecortex(BA24)',\n",
      "9:'Brain_Caudate(basalganglia)',\n",
      "10:'Brain_CerebellarHemisphere',\n",
      "11:'Brain_Cerebellum',\n",
      "12:'Brain_Cortex',\n",
      "13:'Brain_FrontalCortex(BA9)',\n",
      "14:'Brain_Hippocampus',\n",
      "15:'Brain_Hypothalamus',\n",
      "16:'Brain_Nucleusaccumbens(basalganglia)',\n",
      "17:'Brain_Putamen(basalganglia)',\n",
      "18:'Brain_Spinalcord(cervicalc_1)',\n",
      "19:'Brain_Substantianigra',\n",
      "20:'Breast_MammaryTissue',\n",
      "21:'Cells_Culturedfibroblasts',\n",
      "22:'Cells_EBV_transformedlymphocytes',\n",
      "23:'Cells_Leukemiacellline(CML)',\n",
      "24:'Cervix_Ectocervix',\n",
      "25:'Cervix_Endocervix',\n",
      "26:'Colon_Sigmoid',\n",
      "27:'Colon_Transverse',\n",
      "28:'Esophagus_GastroesophagealJunction',\n",
      "29:'Esophagus_Mucosa',\n",
      "30:'Esophagus_Muscularis',\n",
      "31:'FallopianTube',\n",
      "32:'Heart_AtrialAppendage',\n",
      "33:'Heart_LeftVentricle',\n",
      "34:'Kidney_Cortex',\n",
      "35:'Kidney_Medulla',\n",
      "36:'Liver',\n",
      "37:'Lung',\n",
      "38:'MinorSalivaryGland',\n",
      "39:'Muscle_Skeletal',\n",
      "40:'Nerve_Tibial',\n",
      "41:'Ovary',\n",
      "42:'Pancreas',\n",
      "43:'Pituitary',\n",
      "44:'Prostate',\n",
      "45:'Skin_NotSunExposed(Suprapubic)',\n",
      "46:'Skin_SunExposed(Lowerleg)',\n",
      "47:'SmallIntestine_TerminalIleum',\n",
      "48:'Spleen',\n",
      "49:'Stomach',\n",
      "50:'Testis',\n",
      "51:'Thyroid',\n",
      "52:'Uterus',\n",
      "53:'Vagina',\n",
      "54:'WholeBlood',\n"
     ]
    }
   ],
   "source": [
    "sample_file = os.path.join(output_path,'sample.csv')\n",
    "sample_list = pd.read_csv(sample_file)\n",
    "tissue_type = sample_list['SMTSD'].unique()\n",
    "tissue_type.sort()\n",
    "'''\n",
    "for idx,name in enumerate(tissue_type):\n",
    "    # print('{}:\\'{}\\','.format(idx,name))\n",
    "    print('{}:\\'{}\\','.format(idx,name_decorate(name)))\n",
    "    pass\n",
    "'''\n",
    "print(tissue_type)"
   ]
  },
  {
   "cell_type": "markdown",
   "metadata": {},
   "source": [
    "## build junction list by chromosome"
   ]
  },
  {
   "cell_type": "code",
   "execution_count": 51,
   "metadata": {},
   "outputs": [],
   "source": [
    "def split_junction_name(df,col):\n",
    "    split_name = df['Name'].split(sep='_')\n",
    "    df['chr'] = split_name[0]\n",
    "    df['left'] = split_name[1]\n",
    "    df['right'] = split_name[2]\n",
    "    return df\n",
    "def cut_description(df):\n",
    "    # print(df['Description'])\n",
    "    s = str(df['Description'])\n",
    "    # print(s[0:s.find('.')])\n",
    "    df['Description'] = s[0:s.find('.')]\n",
    "    return df"
   ]
  },
  {
   "cell_type": "code",
   "execution_count": 4,
   "metadata": {},
   "outputs": [],
   "source": [
    "read_chunks = pd.read_csv(junction_file,sep='\\t',header=2,iterator=True,chunksize=128,low_memory=False)"
   ]
  },
  {
   "cell_type": "code",
   "execution_count": 33,
   "metadata": {},
   "outputs": [
    {
     "name": "stdout",
     "output_type": "stream",
     "text": [
      "32\n"
     ]
    }
   ],
   "source": [
    "def solve1():\n",
    "    header = None\n",
    "    cnt = 0\n",
    "    for chunk in tqdm.tqdm(read_chunks):\n",
    "        if header is None:\n",
    "            header = chunk.columns\n",
    "        # print(header)\n",
    "        df = chunk.apply(split_junction_name,col='Name',axis=1)\n",
    "        df = df.drop('Name',axis=1)\n",
    "        order = ['chr','left','right'] + list(df.columns[:-3])\n",
    "        # print(order)\n",
    "        df = df[order]\n",
    "        chr_list = df['chr'].unique()\n",
    "        for chr in chr_list:\n",
    "            target_csv = os.path.join(output_path,chr+'.csv')\n",
    "            first = not os.path.exists(target_csv)\n",
    "            if len(chr_list)>1:\n",
    "                df[df['chr']==chr].to_csv(target_csv,mode='a',index=False,header=first)\n",
    "            else:\n",
    "                df.to_csv(target_csv,mode='a',index=False,header=first)\n",
    "        first = False\n",
    "    # df = read_chunks.__next__()\n",
    "    # df = df.apply(split_junction_name,col='name',axis=1)\n",
    "    # df.head()\n",
    "    pass"
   ]
  },
  {
   "cell_type": "markdown",
   "metadata": {},
   "source": [
    "## make paralog list"
   ]
  },
  {
   "cell_type": "code",
   "execution_count": 4,
   "metadata": {},
   "outputs": [],
   "source": [
    "para_df = pd.read_csv(para_db,header=0,sep='\\t')\n",
    "para_df['paralogs'] = para_df['Human paralogue gene stable ID'].notnull()\n",
    "para_df['paralogs'] = para_df['paralogs'].map({True:1,False:0})"
   ]
  },
  {
   "cell_type": "code",
   "execution_count": 5,
   "metadata": {},
   "outputs": [
    {
     "data": {
      "text/html": [
       "<div>\n",
       "<style scoped>\n",
       "    .dataframe tbody tr th:only-of-type {\n",
       "        vertical-align: middle;\n",
       "    }\n",
       "\n",
       "    .dataframe tbody tr th {\n",
       "        vertical-align: top;\n",
       "    }\n",
       "\n",
       "    .dataframe thead th {\n",
       "        text-align: right;\n",
       "    }\n",
       "</style>\n",
       "<table border=\"1\" class=\"dataframe\">\n",
       "  <thead>\n",
       "    <tr style=\"text-align: right;\">\n",
       "      <th></th>\n",
       "      <th>description</th>\n",
       "      <th>paralog</th>\n",
       "    </tr>\n",
       "  </thead>\n",
       "  <tbody>\n",
       "    <tr>\n",
       "      <th>0</th>\n",
       "      <td>ENSG00000210049</td>\n",
       "      <td>0</td>\n",
       "    </tr>\n",
       "    <tr>\n",
       "      <th>1</th>\n",
       "      <td>ENSG00000211459</td>\n",
       "      <td>0</td>\n",
       "    </tr>\n",
       "    <tr>\n",
       "      <th>2</th>\n",
       "      <td>ENSG00000210077</td>\n",
       "      <td>0</td>\n",
       "    </tr>\n",
       "    <tr>\n",
       "      <th>3</th>\n",
       "      <td>ENSG00000210082</td>\n",
       "      <td>0</td>\n",
       "    </tr>\n",
       "    <tr>\n",
       "      <th>4</th>\n",
       "      <td>ENSG00000209082</td>\n",
       "      <td>0</td>\n",
       "    </tr>\n",
       "  </tbody>\n",
       "</table>\n",
       "</div>"
      ],
      "text/plain": [
       "       description  paralog\n",
       "0  ENSG00000210049        0\n",
       "1  ENSG00000211459        0\n",
       "2  ENSG00000210077        0\n",
       "3  ENSG00000210082        0\n",
       "4  ENSG00000209082        0"
      ]
     },
     "execution_count": 5,
     "metadata": {},
     "output_type": "execute_result"
    }
   ],
   "source": [
    "para_df = para_df[['Gene stable ID','paralogs']]\n",
    "para_df.columns = ['description','paralog']\n",
    "para_df = para_df.drop_duplicates('description',keep='first')\n",
    "para_df.head()"
   ]
  },
  {
   "cell_type": "code",
   "execution_count": 5,
   "metadata": {},
   "outputs": [
    {
     "name": "stderr",
     "output_type": "stream",
     "text": [
      "2795it [3:23:23,  4.37s/it]\n"
     ]
    }
   ],
   "source": [
    "lock = False\n",
    "if lock:\n",
    "    solve1()\n"
   ]
  },
  {
   "cell_type": "code",
   "execution_count": 6,
   "metadata": {},
   "outputs": [],
   "source": [
    "chr_list= ['chr1','chr2','chr3','chr4','chr5','chr6',\n",
    "    'chr7','chr8','chr9','chr10','chr11','chr12',\n",
    "    'chr13','chr14','chr15','chr16','chr16','chr17','chr18',\n",
    "    'chr19','chr20','chr21','chr22']"
   ]
  },
  {
   "cell_type": "code",
   "execution_count": 54,
   "metadata": {},
   "outputs": [],
   "source": [
    "gene_df = pd.read_csv(gene_db,header=0,sep='\\t')\n",
    "# gene_df= gene_df.drop_duplicates('Transcript stable ID',keep='first')\n",
    "gene_df = gene_df[['Gene stable ID','Gene name','Transcript start (bp)','Transcript end (bp)','Strand']]\n",
    "gene_df['Description'] = gene_df['Gene stable ID']\n",
    "# gene_df.head()\n",
    "for chr in chr_list:\n",
    "    fpath = os.path.join(output_path,chr+'.csv')\n",
    "    df = pd.read_csv(fpath,header=0)\n",
    "    df = df[['chr','left','right','Description']]\n",
    "    df = df.apply(cut_description,axis=1)\n",
    "    df = df.merge(gene_df,on='Description',how='inner')\n",
    "    df = df[(df['left']>=df['Transcript start (bp)'])&(df['right']<=df['Transcript end (bp)'])]\n",
    "    df = df.drop_duplicates(['left','right'],keep='first')\n",
    "    foutpath = os.path.join(output_path,chr+'_after.csv')\n",
    "    df = df[['left','right','Description','Gene name','Strand','Transcript start (bp)','Transcript end (bp)']]\n",
    "    df.columns = ['left','right','description','gene','strand','txStart','txEnd']\n",
    "    df.to_csv(foutpath,index=False)\n",
    "    "
   ]
  },
  {
   "cell_type": "markdown",
   "metadata": {},
   "source": [
    "## make dataset"
   ]
  },
  {
   "cell_type": "code",
   "execution_count": 7,
   "metadata": {},
   "outputs": [
    {
     "name": "stderr",
     "output_type": "stream",
     "text": [
      "100%|██████████| 33545/33545 [00:01<00:00, 18092.90it/s]\n",
      "100%|██████████| 26947/26947 [00:01<00:00, 18203.08it/s]\n",
      "100%|██████████| 21202/21202 [00:01<00:00, 17763.83it/s]\n",
      "100%|██████████| 14097/14097 [00:00<00:00, 17835.22it/s]\n",
      "100%|██████████| 15659/15659 [00:00<00:00, 18150.60it/s]\n",
      "100%|██████████| 15837/15837 [00:00<00:00, 18314.47it/s]\n",
      "100%|██████████| 17150/17150 [00:00<00:00, 18053.76it/s]\n",
      "100%|██████████| 12804/12804 [00:00<00:00, 17186.40it/s]\n",
      "100%|██████████| 12965/12965 [00:00<00:00, 18130.67it/s]\n",
      "100%|██████████| 13394/13394 [00:00<00:00, 18246.80it/s]\n",
      "100%|██████████| 19501/19501 [00:01<00:00, 18104.70it/s]\n",
      "100%|██████████| 19938/19938 [00:01<00:00, 17897.93it/s]\n",
      "100%|██████████| 6210/6210 [00:00<00:00, 17781.77it/s]\n",
      "100%|██████████| 11483/11483 [00:00<00:00, 18378.61it/s]\n",
      "100%|██████████| 13581/13581 [00:00<00:00, 17615.40it/s]\n",
      "100%|██████████| 16216/16216 [00:00<00:00, 17746.12it/s]\n",
      "100%|██████████| 16216/16216 [00:00<00:00, 18227.22it/s]\n",
      "100%|██████████| 20690/20690 [00:01<00:00, 17907.61it/s]\n",
      "100%|██████████| 6190/6190 [00:00<00:00, 18306.56it/s]\n",
      "100%|██████████| 20141/20141 [00:01<00:00, 18193.57it/s]\n",
      "100%|██████████| 8086/8086 [00:00<00:00, 16546.13it/s]\n",
      "100%|██████████| 4202/4202 [00:00<00:00, 18302.10it/s]\n",
      "100%|██████████| 7619/7619 [00:00<00:00, 18363.76it/s]\n",
      "100%|██████████| 33165/33165 [05:28<00:00, 101.09it/s]\n"
     ]
    }
   ],
   "source": [
    "import warnings\n",
    "import pandas as pd\n",
    "\n",
    "warnings.simplefilter(action=\"ignore\",category=FutureWarning)\n",
    "\n",
    "exon_dict = {}\n",
    "for chrom_name in chr_list:\n",
    "    fin = os.path.join(output_path,chrom_name+'_after.csv')\n",
    "    chrom_file = pd.read_csv(fin)\n",
    "    chrom_file = chrom_file.merge(para_df,on='description',how='inner')\n",
    "    for idx, row in tqdm.tqdm(chrom_file.iterrows(), total=chrom_file.shape[0]):\n",
    "        gene = row['description']\n",
    "        strand = row['strand']\n",
    "        left = row['left']\n",
    "        right = row['right']\n",
    "        if gene not in exon_dict:\n",
    "            exon_dict[gene] = Exon(gene, chrom_name, strand)\n",
    "        exon_dict[gene].add_area(left, right)\n",
    "        exon_dict[gene].check_bound(row['txStart'],row['txEnd'])\n",
    "        exon_dict[gene].check_paralog(row['paralog'])\n",
    "    # break\n",
    "df = pd.DataFrame(\n",
    "columns=('gene', 'paralog','chrom', 'strand','txStart','txEnd', 'exonEnds', 'exonStarts'))\n",
    "for idx, exon in tqdm.tqdm(enumerate(exon_dict.values()), total=len(exon_dict)):\n",
    "    df = df.append(\n",
    "        pd.Series({'gene': exon.gene,'paralog':exon.paralog, 'chrom': str(exon.chrom), 'strand': exon.strand,\n",
    "                  'txStart':exon.txL, 'txEnd':exon.txR,\n",
    "                  'exonEnds': exon.format(exon.end), 'exonStarts': exon.format(exon.start)}),\n",
    "        ignore_index=True\n",
    "    )\n",
    "df.to_csv('new_gtex_dataset2.txt',sep='\\t',index=False,header=False)"
   ]
  },
  {
   "cell_type": "code",
   "execution_count": null,
   "metadata": {},
   "outputs": [],
   "source": []
  }
 ],
 "metadata": {
  "interpreter": {
   "hash": "16a3c93c6ea6ed14693cb92d25a32bb11a22335c5a5ad555853624bcab21fd00"
  },
  "kernelspec": {
   "display_name": "Python 3.8.0 ('ai')",
   "language": "python",
   "name": "python3"
  },
  "language_info": {
   "codemirror_mode": {
    "name": "ipython",
    "version": 3
   },
   "file_extension": ".py",
   "mimetype": "text/x-python",
   "name": "python",
   "nbconvert_exporter": "python",
   "pygments_lexer": "ipython3",
   "version": "3.8.0"
  },
  "orig_nbformat": 4
 },
 "nbformat": 4,
 "nbformat_minor": 2
}
